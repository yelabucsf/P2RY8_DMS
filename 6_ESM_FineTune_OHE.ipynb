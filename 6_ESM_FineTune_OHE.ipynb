### Python notebook for ESM1b fine tuning and one-hot-encoding ridge regression analyses using ESM1b and AlphaMissense to come
